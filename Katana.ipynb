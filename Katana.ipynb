{
  "nbformat": 4,
  "nbformat_minor": 0,
  "metadata": {
    "colab": {
      "provenance": [],
      "authorship_tag": "ABX9TyO6v7T1iH6w5CAkk5nRviNP",
      "include_colab_link": true
    },
    "kernelspec": {
      "name": "python3",
      "display_name": "Python 3"
    },
    "language_info": {
      "name": "python"
    }
  },
  "cells": [
    {
      "cell_type": "markdown",
      "metadata": {
        "id": "view-in-github",
        "colab_type": "text"
      },
      "source": [
        "<a href=\"https://colab.research.google.com/github/Tathan1191/Katana_Python/blob/main/Katana.ipynb\" target=\"_parent\"><img src=\"https://colab.research.google.com/assets/colab-badge.svg\" alt=\"Open In Colab\"/></a>"
      ]
    },
    {
      "cell_type": "code",
      "execution_count": 34,
      "metadata": {
        "colab": {
          "base_uri": "https://localhost:8080/"
        },
        "id": "2rMRLFKb_mt2",
        "outputId": "809bdb1e-7b67-41bc-b727-bf2e7f17294b"
      },
      "outputs": [
        {
          "output_type": "stream",
          "name": "stdout",
          "text": [
            "Cloning into 'Katana'...\n",
            "remote: Enumerating objects: 16, done.\u001b[K\n",
            "remote: Counting objects: 100% (16/16), done.\u001b[K\n",
            "remote: Compressing objects: 100% (13/13), done.\u001b[K\n",
            "remote: Total 16 (delta 5), reused 10 (delta 2), pack-reused 0\u001b[K\n",
            "Receiving objects: 100% (16/16), 7.83 KiB | 7.83 MiB/s, done.\n",
            "Resolving deltas: 100% (5/5), done.\n"
          ]
        }
      ],
      "source": [
        "!git clone https://github.com/TebbaaX/Katana.git"
      ]
    },
    {
      "cell_type": "code",
      "source": [
        "%cd Katana"
      ],
      "metadata": {
        "colab": {
          "base_uri": "https://localhost:8080/"
        },
        "id": "dusfJLTlMovv",
        "outputId": "0eee7fc7-3221-4c48-caf4-bd98940ece8e"
      },
      "execution_count": 35,
      "outputs": [
        {
          "output_type": "stream",
          "name": "stdout",
          "text": [
            "/content/Katana\n"
          ]
        }
      ]
    },
    {
      "cell_type": "code",
      "source": [
        "!python3 -m pip install -r requirements.txt"
      ],
      "metadata": {
        "colab": {
          "base_uri": "https://localhost:8080/"
        },
        "id": "w45CPt0AOzL3",
        "outputId": "d0c8d3c3-188c-4638-c580-37fb4e23fb0c"
      },
      "execution_count": 36,
      "outputs": [
        {
          "output_type": "stream",
          "name": "stdout",
          "text": [
            "Requirement already satisfied: requests in /usr/local/lib/python3.10/dist-packages (from -r requirements.txt (line 1)) (2.31.0)\n",
            "Requirement already satisfied: proxybroker in /usr/local/lib/python3.10/dist-packages (from -r requirements.txt (line 2)) (0.3.2)\n",
            "Requirement already satisfied: google in /usr/local/lib/python3.10/dist-packages (from -r requirements.txt (line 3)) (2.0.3)\n",
            "Requirement already satisfied: termcolor in /usr/local/lib/python3.10/dist-packages (from -r requirements.txt (line 4)) (2.4.0)\n",
            "Requirement already satisfied: txtorcon in /usr/local/lib/python3.10/dist-packages (from -r requirements.txt (line 5)) (23.11.0)\n",
            "Requirement already satisfied: colorama in /usr/local/lib/python3.10/dist-packages (from -r requirements.txt (line 6)) (0.4.6)\n",
            "Requirement already satisfied: bs4 in /usr/local/lib/python3.10/dist-packages (from -r requirements.txt (line 7)) (0.0.2)\n",
            "Requirement already satisfied: StringGenerator in /usr/local/lib/python3.10/dist-packages (from -r requirements.txt (line 8)) (0.4.4)\n",
            "Requirement already satisfied: pysocks in /usr/local/lib/python3.10/dist-packages (from -r requirements.txt (line 9)) (1.7.1)\n",
            "Requirement already satisfied: charset-normalizer<4,>=2 in /usr/local/lib/python3.10/dist-packages (from requests->-r requirements.txt (line 1)) (3.3.2)\n",
            "Requirement already satisfied: idna<4,>=2.5 in /usr/local/lib/python3.10/dist-packages (from requests->-r requirements.txt (line 1)) (3.6)\n",
            "Requirement already satisfied: urllib3<3,>=1.21.1 in /usr/local/lib/python3.10/dist-packages (from requests->-r requirements.txt (line 1)) (2.0.7)\n",
            "Requirement already satisfied: certifi>=2017.4.17 in /usr/local/lib/python3.10/dist-packages (from requests->-r requirements.txt (line 1)) (2023.11.17)\n",
            "Requirement already satisfied: aiohttp>=3.5.4 in /usr/local/lib/python3.10/dist-packages (from proxybroker->-r requirements.txt (line 2)) (3.9.1)\n",
            "Requirement already satisfied: aiodns>=2.0.0 in /usr/local/lib/python3.10/dist-packages (from proxybroker->-r requirements.txt (line 2)) (3.1.1)\n",
            "Requirement already satisfied: attrs==19.1.0 in /usr/local/lib/python3.10/dist-packages (from proxybroker->-r requirements.txt (line 2)) (19.1.0)\n",
            "Requirement already satisfied: maxminddb>=1.4.1 in /usr/local/lib/python3.10/dist-packages (from proxybroker->-r requirements.txt (line 2)) (2.5.2)\n",
            "Requirement already satisfied: beautifulsoup4 in /usr/local/lib/python3.10/dist-packages (from google->-r requirements.txt (line 3)) (4.11.2)\n",
            "Requirement already satisfied: Twisted[tls]>=15.5.0 in /usr/local/lib/python3.10/dist-packages (from txtorcon->-r requirements.txt (line 5)) (19.10.0)\n",
            "Requirement already satisfied: zope.interface>=3.6.1 in /usr/local/lib/python3.10/dist-packages (from txtorcon->-r requirements.txt (line 5)) (6.1)\n",
            "Requirement already satisfied: automat in /usr/local/lib/python3.10/dist-packages (from txtorcon->-r requirements.txt (line 5)) (0.8.0)\n",
            "Requirement already satisfied: cryptography in /usr/local/lib/python3.10/dist-packages (from txtorcon->-r requirements.txt (line 5)) (41.0.7)\n",
            "Requirement already satisfied: pycares>=4.0.0 in /usr/local/lib/python3.10/dist-packages (from aiodns>=2.0.0->proxybroker->-r requirements.txt (line 2)) (4.4.0)\n",
            "Requirement already satisfied: multidict<7.0,>=4.5 in /usr/local/lib/python3.10/dist-packages (from aiohttp>=3.5.4->proxybroker->-r requirements.txt (line 2)) (6.0.4)\n",
            "Requirement already satisfied: yarl<2.0,>=1.0 in /usr/local/lib/python3.10/dist-packages (from aiohttp>=3.5.4->proxybroker->-r requirements.txt (line 2)) (1.9.4)\n",
            "Requirement already satisfied: frozenlist>=1.1.1 in /usr/local/lib/python3.10/dist-packages (from aiohttp>=3.5.4->proxybroker->-r requirements.txt (line 2)) (1.4.1)\n",
            "Requirement already satisfied: aiosignal>=1.1.2 in /usr/local/lib/python3.10/dist-packages (from aiohttp>=3.5.4->proxybroker->-r requirements.txt (line 2)) (1.3.1)\n",
            "Requirement already satisfied: async-timeout<5.0,>=4.0 in /usr/local/lib/python3.10/dist-packages (from aiohttp>=3.5.4->proxybroker->-r requirements.txt (line 2)) (4.0.3)\n",
            "Requirement already satisfied: setuptools>=68.2.2 in /usr/local/lib/python3.10/dist-packages (from maxminddb>=1.4.1->proxybroker->-r requirements.txt (line 2)) (69.0.3)\n",
            "Requirement already satisfied: constantly>=15.1 in /usr/local/lib/python3.10/dist-packages (from Twisted[tls]>=15.5.0->txtorcon->-r requirements.txt (line 5)) (23.10.4)\n",
            "Requirement already satisfied: incremental>=16.10.1 in /usr/local/lib/python3.10/dist-packages (from Twisted[tls]>=15.5.0->txtorcon->-r requirements.txt (line 5)) (22.10.0)\n",
            "Requirement already satisfied: hyperlink>=17.1.1 in /usr/local/lib/python3.10/dist-packages (from Twisted[tls]>=15.5.0->txtorcon->-r requirements.txt (line 5)) (21.0.0)\n",
            "Requirement already satisfied: PyHamcrest>=1.9.0 in /usr/local/lib/python3.10/dist-packages (from Twisted[tls]>=15.5.0->txtorcon->-r requirements.txt (line 5)) (2.1.0)\n",
            "Requirement already satisfied: pyopenssl>=16.0.0 in /usr/local/lib/python3.10/dist-packages (from Twisted[tls]>=15.5.0->txtorcon->-r requirements.txt (line 5)) (23.3.0)\n",
            "Requirement already satisfied: service-identity>=18.1.0 in /usr/local/lib/python3.10/dist-packages (from Twisted[tls]>=15.5.0->txtorcon->-r requirements.txt (line 5)) (24.1.0)\n",
            "Requirement already satisfied: six in /usr/local/lib/python3.10/dist-packages (from automat->txtorcon->-r requirements.txt (line 5)) (1.16.0)\n",
            "Requirement already satisfied: soupsieve>1.2 in /usr/local/lib/python3.10/dist-packages (from beautifulsoup4->google->-r requirements.txt (line 3)) (2.5)\n",
            "Requirement already satisfied: cffi>=1.12 in /usr/local/lib/python3.10/dist-packages (from cryptography->txtorcon->-r requirements.txt (line 5)) (1.16.0)\n",
            "Requirement already satisfied: pycparser in /usr/local/lib/python3.10/dist-packages (from cffi>=1.12->cryptography->txtorcon->-r requirements.txt (line 5)) (2.21)\n",
            "Requirement already satisfied: pyasn1 in /usr/local/lib/python3.10/dist-packages (from service-identity>=18.1.0->Twisted[tls]>=15.5.0->txtorcon->-r requirements.txt (line 5)) (0.5.1)\n",
            "Requirement already satisfied: pyasn1-modules in /usr/local/lib/python3.10/dist-packages (from service-identity>=18.1.0->Twisted[tls]>=15.5.0->txtorcon->-r requirements.txt (line 5)) (0.3.0)\n"
          ]
        }
      ]
    },
    {
      "cell_type": "code",
      "source": [
        "!python3 kds.py -g"
      ],
      "metadata": {
        "colab": {
          "base_uri": "https://localhost:8080/"
        },
        "id": "DWv9IyW3PMJY",
        "outputId": "2a616410-4a78-4d8c-e4f5-9c8785396fb7"
      },
      "execution_count": null,
      "outputs": [
        {
          "output_type": "stream",
          "name": "stdout",
          "text": [
            "\n",
            "\n",
            "             \n",
            "                    |\n",
            "  ,_._._._._._._._._T__________________________________________________________\n",
            "  |G|o|o|g|l|e|_|_|_O_________________________________________________________/\n",
            "                    R                                                           V1.5.3\n",
            "                    |\n",
            "                    \n",
            "    Katana Dork Scanner (Katana-DS) coded by TebbaaX\n",
            "    please use -h to see help\n",
            "    \n",
            "\u001b[H\u001b[2J\n",
            "\n",
            "\n",
            ",_._._._._._._._._|__________________________________________________________\n",
            "|G|o|o|g|l|e|_|_|_|_________________________________________________________/\n",
            "                  |\n",
            "    Katana dork scanner (Katana DS V1.5.3)\n",
            "    Google Mode\n",
            "\n",
            "\u001b[32m[>] Please set a Dork : \u001b[0m"
          ]
        }
      ]
    },
    {
      "cell_type": "code",
      "source": [],
      "metadata": {
        "id": "v8MJY7hmPP0v"
      },
      "execution_count": null,
      "outputs": []
    }
  ]
}